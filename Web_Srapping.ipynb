{
  "nbformat": 4,
  "nbformat_minor": 0,
  "metadata": {
    "colab": {
      "provenance": [],
      "authorship_tag": "ABX9TyNmxODqSM7b8lNVcBljqcT2",
      "include_colab_link": true
    },
    "kernelspec": {
      "name": "python3",
      "display_name": "Python 3"
    },
    "language_info": {
      "name": "python"
    }
  },
  "cells": [
    {
      "cell_type": "markdown",
      "metadata": {
        "id": "view-in-github",
        "colab_type": "text"
      },
      "source": [
        "<a href=\"https://colab.research.google.com/github/bbshaw2024/web-sacrapping/blob/main/Web_Srapping.ipynb\" target=\"_parent\"><img src=\"https://colab.research.google.com/assets/colab-badge.svg\" alt=\"Open In Colab\"/></a>"
      ]
    },
    {
      "cell_type": "code",
      "execution_count": 1,
      "metadata": {
        "id": "4JHf0NEFM_Gy"
      },
      "outputs": [],
      "source": [
        "# Loading required libraries\n",
        "\n",
        "import numpy as np\n",
        "import pandas as pd\n",
        "\n",
        "import requests\n",
        "from bs4 import BeautifulSoup"
      ]
    },
    {
      "cell_type": "code",
      "source": [
        "# Identify the URL\n",
        "\n",
        "URL = 'https://timely-sunshine-e821b3.netlify.app/'"
      ],
      "metadata": {
        "id": "_CsdAzaONv03"
      },
      "execution_count": null,
      "outputs": []
    },
    {
      "cell_type": "code",
      "source": [
        "page.status_code"
      ],
      "metadata": {
        "colab": {
          "base_uri": "https://localhost:8080/"
        },
        "id": "hNW0FC42R3Gl",
        "outputId": "b793a80d-cc08-46ca-af0f-76f72f8c0bc9"
      },
      "execution_count": 18,
      "outputs": [
        {
          "output_type": "execute_result",
          "data": {
            "text/plain": [
              "200"
            ]
          },
          "metadata": {},
          "execution_count": 18
        }
      ]
    },
    {
      "cell_type": "code",
      "source": [],
      "metadata": {
        "id": "Sn0mMKAIR3Dy"
      },
      "execution_count": null,
      "outputs": []
    },
    {
      "cell_type": "code",
      "source": [
        "#Loading the Web page in memory using reqests library\n",
        "URL = 'https://timely-sunshine-e821b3.netlify.app/'\n",
        "page = requests.get(URL)\n"
      ],
      "metadata": {
        "id": "08ICEmUsN8di"
      },
      "execution_count": 4,
      "outputs": []
    },
    {
      "cell_type": "code",
      "source": [
        "#Extracting the htmlcode from the web page\n",
        "htmlCode = page.text\n",
        "soup = BeautifulSoup(htmlCode)"
      ],
      "metadata": {
        "id": "_eLS7N4-Odrg"
      },
      "execution_count": 5,
      "outputs": []
    },
    {
      "cell_type": "code",
      "source": [
        "htmlCode"
      ],
      "metadata": {
        "colab": {
          "base_uri": "https://localhost:8080/",
          "height": 140
        },
        "id": "EUnWwUTbOvUu",
        "outputId": "78a022e2-3621-473f-e803-589094b425a1"
      },
      "execution_count": 6,
      "outputs": [
        {
          "output_type": "execute_result",
          "data": {
            "text/plain": [
              "'<html>\\r\\n    <head>\\r\\n        <style>\\r\\n            .header{\\r\\n                height : 100px;\\r\\n                background-color: bisque;\\r\\n                box-shadow: 0px 10px 10px black;\\r\\n            }\\r\\n            .header p{\\r\\n                font-family: \\'Lucida Sans\\', \\'Lucida Sans Regular\\', \\'Lucida Grande\\', \\'Lucida Sans Unicode\\', Geneva, Verdana, sans-serif;\\r\\n                font-weight: bold;\\r\\n                font-size: 70px;\\r\\n                text-align: center;\\r\\n                padding-top:10px;\\r\\n            }\\r\\n            .main{\\r\\n                background-color: rgb(189, 234, 234);\\r\\n                display: flex;\\r\\n                flex-wrap: wrap;\\r\\n                justify-content: space-between;\\r\\n            }\\r\\n            img{\\r\\n                width : 100%;\\r\\n                height : 100%;\\r\\n            }\\r\\n            .main{\\r\\n                margin-top:20px;\\r\\n            }\\r\\n            .a{\\r\\n                height : 300px;\\r\\n                width : 250px;\\r\\n                background-color: burlywood;\\r\\n                padding : 10px;\\r\\n                margin:10px;\\r\\n            }\\r\\n            .a .image{\\r\\n                height : 250px;\\r\\n            }\\r\\n            .a .name{\\r\\n                font-family: Georgia, \\'Times New Roman\\', Times, serif;\\r\\n                text-align: center;\\r\\n                padding-top:10px;\\r\\n            }\\r\\n            .a .name::before{\\r\\n                content: \"Name: \";\\r\\n            }\\r\\n            .a .price{\\r\\n                font-family: Georgia, \\'Times New Roman\\', Times, serif;\\r\\n                text-align: center;\\r\\n                padding-top:5px;\\r\\n            }\\r\\n            .a .price::before{\\r\\n                content: \"Price: \"\\r\\n            }\\r\\n        </style>\\r\\n    </head>\\r\\n    <body>\\r\\n        <div class=\"header\">\\r\\n            <p>Webscrapping Example</p>\\r\\n        </div>\\r\\n        <div class=\"main\">\\r\\n            <div class=\"a\">\\r\\n                <div class=\"image\">\\r\\n                    <img src=\"toy.png\">\\r\\n                </div>\\r\\n                <div class=\"name\">\\r\\n                    Robot 1\\r\\n                </div>\\r\\n                <div class=\"price\">\\r\\n                    100\\r\\n                </div>\\r\\n            </div>\\r\\n            <div class=\"a\">\\r\\n                <div class=\"image\">\\r\\n                    <img src=\"toy2.png\">\\r\\n                </div>\\r\\n                <div class=\"name\">\\r\\n                    Teddy 1\\r\\n                </div>\\r\\n                <div class=\"price\">\\r\\n                    120\\r\\n                </div>\\r\\n            </div>\\r\\n            <div class=\"a\">\\r\\n                <div class=\"image\">\\r\\n                    <img src=\"toy3.png\">\\r\\n                </div>\\r\\n                <div class=\"name\">\\r\\n                    Car 1\\r\\n                </div>\\r\\n                <div class=\"price\">\\r\\n                    99\\r\\n                </div>\\r\\n            </div>\\r\\n            <div class=\"a\">\\r\\n                <div class=\"image\">\\r\\n                    <img src=\"toy.png\">\\r\\n                </div>\\r\\n                <div class=\"name\">\\r\\n                    Robot 2\\r\\n                </div>\\r\\n                <div class=\"price\">\\r\\n                    200\\r\\n                </div>\\r\\n            </div>\\r\\n            <div class=\"a\">\\r\\n                <div class=\"image\">\\r\\n                    <img src=\"toy2.png\">\\r\\n                </div>\\r\\n                <div class=\"name\">\\r\\n                    Teddy 2\\r\\n                </div>\\r\\n                <div class=\"price\">\\r\\n                    220\\r\\n                </div>\\r\\n            </div>\\r\\n            <div class=\"a\">\\r\\n                <div class=\"image\">\\r\\n                    <img src=\"toy3.png\">\\r\\n                </div>\\r\\n                <div class=\"name\">\\r\\n                    Car 2\\r\\n                </div>\\r\\n                <div class=\"price\">\\r\\n                    199\\r\\n                </div>\\r\\n            </div>\\r\\n            <div class=\"a\">\\r\\n                <div class=\"image\">\\r\\n                    <img src=\"toy.png\">\\r\\n                </div>\\r\\n                <div class=\"name\">\\r\\n                    Robot 3\\r\\n                </div>\\r\\n                <div class=\"price\">\\r\\n                    300\\r\\n                </div>\\r\\n            </div>\\r\\n            <div class=\"a\">\\r\\n                <div class=\"image\">\\r\\n                    <img src=\"toy2.png\">\\r\\n                </div>\\r\\n                <div class=\"name\">\\r\\n                    Teddy 3\\r\\n                </div>\\r\\n                <div class=\"price\">\\r\\n                    220\\r\\n                </div>\\r\\n            </div>\\r\\n            <div class=\"a\">\\r\\n                <div class=\"image\">\\r\\n                    <img src=\"toy3.png\">\\r\\n                </div>\\r\\n                <div class=\"name\">\\r\\n                    Car 3\\r\\n                </div>\\r\\n                <div class=\"price\">\\r\\n                    299\\r\\n                </div>\\r\\n            </div>\\r\\n        </div>\\r\\n    </body>\\r\\n</html>'"
            ],
            "application/vnd.google.colaboratory.intrinsic+json": {
              "type": "string"
            }
          },
          "metadata": {},
          "execution_count": 6
        }
      ]
    },
    {
      "cell_type": "code",
      "source": [
        "content = soup.find('div', attrs={'class' : 'main'})\n",
        "text = content.text\n",
        "#print(text)\n",
        "\n",
        "r1 = text.split(\"\\n\")\n",
        "#print(r1)\n",
        "r2 = []\n",
        "for i in r1:\n",
        "  if i != '' and i != '\\r':\n",
        "    r2.append(i)\n",
        "#print(r2)\n",
        "r3 = []\n",
        "for i in r2:\n",
        "  k = i.strip()\n",
        "  r3.append(k)\n",
        "#print(r3)\n",
        "r4 = []\n",
        "for i in r3:\n",
        "  if i != '':\n",
        "    r4.append (i)\n",
        "#print(r4)\n",
        "\n",
        "names = []\n",
        "prices = []\n",
        "for i in range(0,len(r4),2):\n",
        "  names.append(r4[i])\n",
        "  prices.append(r4[i+1])\n",
        "print(names)\n",
        "print(prices)\n"
      ],
      "metadata": {
        "colab": {
          "base_uri": "https://localhost:8080/"
        },
        "id": "yANxYrW1TS6Z",
        "outputId": "d24d21b6-a65f-418b-affa-84bb9aae470a"
      },
      "execution_count": 20,
      "outputs": [
        {
          "output_type": "stream",
          "name": "stdout",
          "text": [
            "['Robot 1', 'Teddy 1', 'Car 1', 'Robot 2', 'Teddy 2', 'Car 2', 'Robot 3', 'Teddy 3', 'Car 3']\n",
            "['100', '120', '99', '200', '220', '199', '300', '220', '299']\n"
          ]
        }
      ]
    },
    {
      "cell_type": "code",
      "source": [
        "df = pd.DataFrame({'Produt_Name' : names,'MRP' : prices})\n",
        "print(df)"
      ],
      "metadata": {
        "colab": {
          "base_uri": "https://localhost:8080/"
        },
        "id": "glDp-XTdT2jG",
        "outputId": "c835382e-dbfd-491d-cbe8-6f3bb09151c9"
      },
      "execution_count": 22,
      "outputs": [
        {
          "output_type": "stream",
          "name": "stdout",
          "text": [
            "  Produt_Name  MRP\n",
            "0     Robot 1  100\n",
            "1     Teddy 1  120\n",
            "2       Car 1   99\n",
            "3     Robot 2  200\n",
            "4     Teddy 2  220\n",
            "5       Car 2  199\n",
            "6     Robot 3  300\n",
            "7     Teddy 3  220\n",
            "8       Car 3  299\n"
          ]
        }
      ]
    },
    {
      "cell_type": "code",
      "source": [
        "df.to_csv('products.csv', header=True, index=False)"
      ],
      "metadata": {
        "id": "MFQnaKR5UYDR"
      },
      "execution_count": 23,
      "outputs": []
    },
    {
      "cell_type": "code",
      "source": [
        "from google.colab import files\n",
        "files.download('products.csv')"
      ],
      "metadata": {
        "colab": {
          "base_uri": "https://localhost:8080/",
          "height": 17
        },
        "id": "nhHQGINYUsHZ",
        "outputId": "dc112651-bf68-4083-a368-f1f6a1d4e3e6"
      },
      "execution_count": 24,
      "outputs": [
        {
          "output_type": "display_data",
          "data": {
            "text/plain": [
              "<IPython.core.display.Javascript object>"
            ],
            "application/javascript": [
              "\n",
              "    async function download(id, filename, size) {\n",
              "      if (!google.colab.kernel.accessAllowed) {\n",
              "        return;\n",
              "      }\n",
              "      const div = document.createElement('div');\n",
              "      const label = document.createElement('label');\n",
              "      label.textContent = `Downloading \"${filename}\": `;\n",
              "      div.appendChild(label);\n",
              "      const progress = document.createElement('progress');\n",
              "      progress.max = size;\n",
              "      div.appendChild(progress);\n",
              "      document.body.appendChild(div);\n",
              "\n",
              "      const buffers = [];\n",
              "      let downloaded = 0;\n",
              "\n",
              "      const channel = await google.colab.kernel.comms.open(id);\n",
              "      // Send a message to notify the kernel that we're ready.\n",
              "      channel.send({})\n",
              "\n",
              "      for await (const message of channel.messages) {\n",
              "        // Send a message to notify the kernel that we're ready.\n",
              "        channel.send({})\n",
              "        if (message.buffers) {\n",
              "          for (const buffer of message.buffers) {\n",
              "            buffers.push(buffer);\n",
              "            downloaded += buffer.byteLength;\n",
              "            progress.value = downloaded;\n",
              "          }\n",
              "        }\n",
              "      }\n",
              "      const blob = new Blob(buffers, {type: 'application/binary'});\n",
              "      const a = document.createElement('a');\n",
              "      a.href = window.URL.createObjectURL(blob);\n",
              "      a.download = filename;\n",
              "      div.appendChild(a);\n",
              "      a.click();\n",
              "      div.remove();\n",
              "    }\n",
              "  "
            ]
          },
          "metadata": {}
        },
        {
          "output_type": "display_data",
          "data": {
            "text/plain": [
              "<IPython.core.display.Javascript object>"
            ],
            "application/javascript": [
              "download(\"download_f5a497ae-8941-47f1-83f2-6207731f85eb\", \"products.csv\", 117)"
            ]
          },
          "metadata": {}
        }
      ]
    }
  ]
}